{
 "cells": [
  {
   "cell_type": "markdown",
   "metadata": {},
   "source": [
    "# **About the Project**\n",
    "## December 2020\n",
    "### Ian Yu"
   ]
  },
  {
   "cell_type": "markdown",
   "metadata": {},
   "source": [
    "----"
   ]
  },
  {
   "cell_type": "markdown",
   "metadata": {},
   "source": [
    "## **Table of Content**\n",
    "\n",
    "1. [Objective](#Objective)\n",
    "2. [Context](#Context)\n",
    "3. [Intermarket Analysis](#Intermarket-Analysis)\n",
    "4. [Modern Portfolio Theory](#Modern-Portfolio-Theory)"
   ]
  },
  {
   "cell_type": "markdown",
   "metadata": {},
   "source": [
    "----"
   ]
  },
  {
   "cell_type": "markdown",
   "metadata": {},
   "source": [
    "## **Objective**\n",
    "\n",
    "The objective of this project is to design **a predictive model that captures the overall macro environment and forecasts the Standard and Poor's 500 Index with relatively good precision and, more importantly, capturing the rate of change in a longer timeframe**. The model will be part of the Long-Term Asset Allocator that allocates portfolio resources between major markets, which requires the long-term forecast of rate of change to build. We will be creating a Weekly Predictor, Semi-Monthly Predictor, and Monthly Predictor to explore how far in timeframe can we forecast. \n",
    "\n",
    "The project will be not only be learning from the data from the S&P500 itself, but also will utilize proxy data for the bond market, commodity market and the currency market. If the models are able to forecast S&P 500's relatively well with intermarket data feed, then the same model could be applied to different major markets, providing the elemnts to build an asset allocation system, based on Modern Portfolio Theory, which I will be building in the long run. In theory, such asset allocation system would be able to find the Efficient Frontier between markets, optimizing the resources allocated to each market, maximizing portfolio return while minimizing the risks.\n",
    "\n",
    "For this project, we will be creating 3 datasets, using values and signals from at least 5 trading days old for Weekly Predictor, 10 trading days old for Semi-Monthly Predictor, and 20 trading days old for Monthly Predictor. To make the project most replicable, we will be using credible open data only. We will also be confining our scope of study within the US market rather than dealing with the complexity of the global markets. "
   ]
  },
  {
   "cell_type": "markdown",
   "metadata": {},
   "source": [
    "[Back to Top](#Table-of-Content)"
   ]
  },
  {
   "cell_type": "markdown",
   "metadata": {},
   "source": [
    "----"
   ]
  },
  {
   "cell_type": "markdown",
   "metadata": {},
   "source": [
    "## **Context**\n",
    "\n",
    "Stock market  prediction is an age old problem that is difficult to solve, and [Forecasting: Principles and Practice](https://otexts.com/fpp2/) by Rob J. Hyndman and George Athanasopoulos spells out exactly why. Despite the long history of data available, the macro forces that affect the stock market, or even a single stock, are complex and difficult to capture. On top of that, actions taken according to our own forecast would actually change the very thing we are forecasting, creating a feedback loop between the prediction and decisions. George Soros explored this aspect extensively and developed the [Theory of Reflexivity](https://www.investopedia.com/terms/r/reflexivity.asp) in the world of economics and finance.\n",
    "\n",
    "In the age of Machine Learning and Artificial Intelligence, countless attempts have been made on the web in creating neural networks to predict stock prices, but most of these models on the web are based on past history of a single stock or equity market itself, turning a blind eye to macro forces that influence the stock market itself. In this project, therefore, we attempt to replicate the concept of [Intermarket Analysis](https://www.investopedia.com/terms/i/intermarketanalysis.asp), pioneered by John J. Murphy.\n",
    "\n",
    "Intermarket analysis states that the four major markets, equity, bond, commodity, and currency are interconnected, and one could find the relative long-term performance strength by analyzing the four markets together and allocate one's investment portfolio accordingly."
   ]
  },
  {
   "cell_type": "markdown",
   "metadata": {},
   "source": [
    "[Back to Top](#Table-of-Content)"
   ]
  },
  {
   "cell_type": "markdown",
   "metadata": {},
   "source": [
    "----"
   ]
  },
  {
   "cell_type": "markdown",
   "metadata": {},
   "source": [
    "## **Intermarket Analysis**\n",
    "\n",
    "Intermarket Analysis states that the four major markets of stocks, bond, commodity, and currency are interconnected. In the current deflationary environment, for example, the stock market and the bond market are negatively correlated. Intermarket analysis helps one to capture the flow of money in between the markets. If one was to soley look at the stock market, it would be hard to explain where did the money go during hard times. \n",
    "\n",
    "<img src=\"https://i.pinimg.com/564x/9a/59/41/9a5941aff049cdd9a52e6802b0bfc7a0.jpg\" width=400 height=400>\n",
    "\n",
    "Intermarket analysis also helps one prepare long-term asset allocation strategy. By examining the performance of each asset relative to another, often by Relative Strength Line, one could adjust cross-asset investment portfolio accordingly. \n"
   ]
  },
  {
   "cell_type": "markdown",
   "metadata": {},
   "source": [
    "[Back to Top](#Table-of-Content)"
   ]
  },
  {
   "cell_type": "markdown",
   "metadata": {},
   "source": [
    "## **Modern Portfolio Theory**\n",
    "\n",
    "[Modern Portfolio Theory](https://en.wikipedia.org/wiki/Modern_portfolio_theory) states that the portfolio expected return would be as follows:\n",
    "\n",
    "\\begin{equation*}\n",
    "\\operatorname{E}(R_p)=\\sum_{i}w{_i}\\operatorname {E} (R_{i})\n",
    "\\end{equation*}\n",
    "\n",
    "where $R_p$ is the return on the portfolio, $R_i$ is the return on asset *i*, and $w_i$ is the weighting of component asset *i*. The second part of the MPT is that the portfolio's varience is:\n",
    "\n",
    "\\begin{equation*}\n",
    "\\ \\sigma _{p}^{2}=\\sum _{i}w_{i}^{2}\\sigma _{i}^{2}+\\sum _{i}\\sum _{j\\neq i}w_{i}w_{j}\\sigma _{i}\\sigma _{j}\\rho _{ij}\n",
    "\\end{equation*}\n",
    "\n",
    "where $\\sigma$  is the (sample) standard deviation of the periodic returns on an asset, and $\\rho _{ij}$ is the correlation coefficient between the returns on assets *i* and *j*. \n",
    "\n",
    "The principle of the theory would be to find the Efficient Frontier of a given investment portfolio. The efficient frontier is when, given a number of component assets in a portfolio, the weightings of the assets maximize the return while minimizing the risk.\n",
    "\n",
    "<img src=\"https://www.guidedchoice.com/wp-content/uploads/2017/07/mpt-image-2.jpg\" width=800 height=800>\n",
    "\n",
    "*Image source: [guidedchoice.com](https://www.guidedchoice.com/video/dr-harry-markowitz-father-of-modern-portfolio-theory/)*\n",
    "\n",
    "Asset allocation is based on the concept of Modern Portfolio Theory, which seeks Efficient Frontier. By forecasting long-term rate of change, one could capture Expected Return and Expected Volatility of different major markets, which is further complicated by covariance between the markets, one would be able to find optimal weightings to long-term allocation of resources to different markets that minimizes risk while maximizing return."
   ]
  },
  {
   "cell_type": "markdown",
   "metadata": {},
   "source": [
    "[Back to Top](#Table-of-Content)"
   ]
  },
  {
   "cell_type": "markdown",
   "metadata": {},
   "source": [
    "## **Acknowledgement**\n",
    "\n",
    "This project is my first ever neural network project since becoming a Data Scientist. Throughout the project, I received assistance and guidance through instructors from BrainStation. Length of the project was roughly 2.5 weeks while continuing learning and submitting other class deliverables. "
   ]
  }
 ],
 "metadata": {
  "kernelspec": {
   "display_name": "deeplearning",
   "language": "python",
   "name": "deeplearning"
  },
  "language_info": {
   "codemirror_mode": {
    "name": "ipython",
    "version": 3
   },
   "file_extension": ".py",
   "mimetype": "text/x-python",
   "name": "python",
   "nbconvert_exporter": "python",
   "pygments_lexer": "ipython3",
   "version": "3.7.8"
  }
 },
 "nbformat": 4,
 "nbformat_minor": 4
}
