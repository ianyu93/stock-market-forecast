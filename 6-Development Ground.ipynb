{
 "cells": [
  {
   "cell_type": "markdown",
   "metadata": {},
   "source": [
    "# **Testing Pipeline**\n",
    "## December 2020\n",
    "### Ian Yu"
   ]
  },
  {
   "cell_type": "markdown",
   "metadata": {},
   "source": [
    "----"
   ]
  },
  {
   "cell_type": "markdown",
   "metadata": {},
   "source": [
    "## **Table of Content**\n",
    "\n",
    "1. [Objective](#Objective)\n",
    "2. [Acknoledgement](#Acknoledgement)\n",
    "3. [Exploratory Data Analysis](#Exploratory-Data-Analysis)\n",
    "4. [Data Cleaning and Concatenating Dataframes](#Data-Cleaning-and-Concatenating-Dataframes)\n",
    "5. [Next Step](#Next-Step)"
   ]
  },
  {
   "cell_type": "markdown",
   "metadata": {},
   "source": [
    "---"
   ]
  },
  {
   "cell_type": "markdown",
   "metadata": {},
   "source": [
    "- [yfinance](https://pypi.org/project/yfinance/)\n",
    "- [Qaundl](https://www.quandl.com/data/YALE/SP_CPI-U-S-Stock-Price-Data-Consumer-Price-Index)\n",
    "- [fredapi](https://pypi.org/project/fredapi/)"
   ]
  },
  {
   "cell_type": "markdown",
   "metadata": {},
   "source": [
    "----"
   ]
  },
  {
   "cell_type": "markdown",
   "metadata": {},
   "source": [
    "## **Objective**\n",
    "The purpose of this notebook is to explore how to create an automatic learning pipeline for the stock marekt forecasting models. This notebook will contain findings and codes from previous notebooks, and we will be planning and creating the whole pipeline in this notebook. "
   ]
  },
  {
   "cell_type": "markdown",
   "metadata": {},
   "source": [
    "[Back to Top](#Table-of-Content)"
   ]
  },
  {
   "cell_type": "markdown",
   "metadata": {},
   "source": [
    "## **Plan**\n",
    "\n",
    "In a grand scheme of things, the major parts of the pipeline will include:\n",
    "\n",
    "- Calling new data from API and create the new datasets\n",
    "- Feature engineer and create different datasets for different timeframe\n",
    "    - Dataset for training\n",
    "    - Dataset for prediction\n",
    "- Preprocess and train on new train data\n",
    "- Predict on new prediction dataset\n",
    "\n",
    "We will create a test for just 5 days for now"
   ]
  },
  {
   "cell_type": "markdown",
   "metadata": {},
   "source": [
    "## **Data Cleaning**\n",
    "\n",
    "First, let's import the necessary packages"
   ]
  },
  {
   "cell_type": "code",
   "execution_count": 78,
   "metadata": {},
   "outputs": [],
   "source": [
    "import numpy as np\n",
    "import pandas as pd\n",
    "import matplotlib.pyplot as plt\n",
    "import time \n",
    "import yfinance as yf\n",
    "from fredapi import Fred\n",
    "import quandl\n",
    "fred = Fred(api_key = \"3e7ce9d3322d45b49f624720abd0f36a\")\n",
    "quandl.ApiConfig.api_key = \"_gTGp-_JJ9kKR7-hCGT5\""
   ]
  },
  {
   "cell_type": "code",
   "execution_count": 112,
   "metadata": {},
   "outputs": [],
   "source": [
    "# Request data from all APIs\n",
    "stock = yf.Ticker(\"^GSPC\").history(period = \"max\")\n",
    "yields = pd.DataFrame(fred.get_series('IRLTLT01USM156N'), columns = [\"yields\"])\n",
    "usd = yf.Ticker(\"DX-Y.NYB\").history(period = \"max\")\n",
    "gold = quandl.get(\"LBMA/GOLD\")\n",
    "wti = pd.DataFrame(fred.get_series_latest_release('DCOILWTICO'), columns = [\"price\"])\n",
    "cpi = pd.DataFrame(fred.get_series_latest_release('CPALTT01USA659N'), columns = [\"annual rate\"])\n",
    "time.sleep(1)\n",
    "\n",
    "# Put the dataframes into a list for certain treat-all operations\n",
    "datalist = [stock, yields, usd, gold, wti, cpi]"
   ]
  },
  {
   "cell_type": "code",
   "execution_count": 113,
   "metadata": {},
   "outputs": [
    {
     "data": {
      "text/plain": [
       "price    309\n",
       "dtype: int64"
      ]
     },
     "execution_count": 113,
     "metadata": {},
     "output_type": "execute_result"
    }
   ],
   "source": [
    "wti.isna().sum()"
   ]
  },
  {
   "cell_type": "code",
   "execution_count": 117,
   "metadata": {},
   "outputs": [
    {
     "data": {
      "text/html": [
       "<div>\n",
       "<style scoped>\n",
       "    .dataframe tbody tr th:only-of-type {\n",
       "        vertical-align: middle;\n",
       "    }\n",
       "\n",
       "    .dataframe tbody tr th {\n",
       "        vertical-align: top;\n",
       "    }\n",
       "\n",
       "    .dataframe thead th {\n",
       "        text-align: right;\n",
       "    }\n",
       "</style>\n",
       "<table border=\"1\" class=\"dataframe\">\n",
       "  <thead>\n",
       "    <tr style=\"text-align: right;\">\n",
       "      <th></th>\n",
       "      <th>price</th>\n",
       "    </tr>\n",
       "  </thead>\n",
       "  <tbody>\n",
       "    <tr>\n",
       "      <th>2019-12-25</th>\n",
       "      <td>NaN</td>\n",
       "    </tr>\n",
       "    <tr>\n",
       "      <th>2020-01-01</th>\n",
       "      <td>NaN</td>\n",
       "    </tr>\n",
       "    <tr>\n",
       "      <th>2020-01-20</th>\n",
       "      <td>NaN</td>\n",
       "    </tr>\n",
       "    <tr>\n",
       "      <th>2020-02-17</th>\n",
       "      <td>NaN</td>\n",
       "    </tr>\n",
       "    <tr>\n",
       "      <th>2020-04-10</th>\n",
       "      <td>NaN</td>\n",
       "    </tr>\n",
       "    <tr>\n",
       "      <th>2020-05-25</th>\n",
       "      <td>NaN</td>\n",
       "    </tr>\n",
       "    <tr>\n",
       "      <th>2020-07-03</th>\n",
       "      <td>NaN</td>\n",
       "    </tr>\n",
       "    <tr>\n",
       "      <th>2020-09-07</th>\n",
       "      <td>NaN</td>\n",
       "    </tr>\n",
       "    <tr>\n",
       "      <th>2020-11-26</th>\n",
       "      <td>NaN</td>\n",
       "    </tr>\n",
       "    <tr>\n",
       "      <th>2020-11-27</th>\n",
       "      <td>NaN</td>\n",
       "    </tr>\n",
       "  </tbody>\n",
       "</table>\n",
       "</div>"
      ],
      "text/plain": [
       "            price\n",
       "2019-12-25    NaN\n",
       "2020-01-01    NaN\n",
       "2020-01-20    NaN\n",
       "2020-02-17    NaN\n",
       "2020-04-10    NaN\n",
       "2020-05-25    NaN\n",
       "2020-07-03    NaN\n",
       "2020-09-07    NaN\n",
       "2020-11-26    NaN\n",
       "2020-11-27    NaN"
      ]
     },
     "execution_count": 117,
     "metadata": {},
     "output_type": "execute_result"
    }
   ],
   "source": [
    "# Return where Open has missing values.\n",
    "wti[wti[\"price\"].isna()].tail(10)"
   ]
  },
  {
   "cell_type": "code",
   "execution_count": null,
   "metadata": {},
   "outputs": [],
   "source": []
  }
 ],
 "metadata": {
  "kernelspec": {
   "display_name": "deeplearning",
   "language": "python",
   "name": "deeplearning"
  },
  "language_info": {
   "codemirror_mode": {
    "name": "ipython",
    "version": 3
   },
   "file_extension": ".py",
   "mimetype": "text/x-python",
   "name": "python",
   "nbconvert_exporter": "python",
   "pygments_lexer": "ipython3",
   "version": "3.7.8"
  }
 },
 "nbformat": 4,
 "nbformat_minor": 4
}
